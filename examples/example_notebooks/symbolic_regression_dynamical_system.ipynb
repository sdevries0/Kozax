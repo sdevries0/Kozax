{
 "cells": [
  {
   "cell_type": "markdown",
   "metadata": {},
   "source": [
    "# Symbolic regression of a dynamical system\n",
    "\n",
    "In this example, Kozax is applied to recover the state equations of the Lotka-Volterra system. The candidate solutions are integrated as a system of differential equations, after which the predictions are compared to the true observations to determine a fitness score."
   ]
  },
  {
   "cell_type": "code",
   "execution_count": 1,
   "metadata": {},
   "outputs": [
    {
     "name": "stdout",
     "output_type": "stream",
     "text": [
      "These device(s) are detected:  [CpuDevice(id=0), CpuDevice(id=1), CpuDevice(id=2), CpuDevice(id=3), CpuDevice(id=4), CpuDevice(id=5), CpuDevice(id=6), CpuDevice(id=7), CpuDevice(id=8), CpuDevice(id=9)]\n"
     ]
    }
   ],
   "source": [
    "# Specify the cores to use for XLA\n",
    "import os\n",
    "os.environ[\"XLA_FLAGS\"] = '--xla_force_host_platform_device_count=10'\n",
    "\n",
    "import jax\n",
    "import diffrax\n",
    "import jax.numpy as jnp\n",
    "import jax.random as jr\n",
    "import diffrax\n",
    "\n",
    "from kozax.genetic_programming import GeneticProgramming\n",
    "from kozax.fitness_functions.ODE_fitness_function import ODEFitnessFunction\n",
    "from kozax.environments.SR_environments.lotka_volterra import LotkaVolterra"
   ]
  },
  {
   "cell_type": "markdown",
   "metadata": {},
   "source": [
    "First the data is generated, consisting of initial conditions, time points and the true observations. Kozax provides the Lotka-Volterra environment, which is integrated with Diffrax."
   ]
  },
  {
   "cell_type": "code",
   "execution_count": 2,
   "metadata": {},
   "outputs": [],
   "source": [
    "def get_data(key, env, dt, T, batch_size=20):\n",
    "    x0s = env.sample_init_states(batch_size, key)\n",
    "    ts = jnp.arange(0, T, dt)\n",
    "\n",
    "    def solve(env, ts, x0):\n",
    "        solver = diffrax.Dopri5()\n",
    "        dt0 = 0.001\n",
    "        saveat = diffrax.SaveAt(ts=ts)\n",
    "\n",
    "        system = diffrax.ODETerm(env.drift)\n",
    "\n",
    "        # Solve the system given an initial conditions\n",
    "        sol = diffrax.diffeqsolve(system, solver, ts[0], ts[-1], dt0, x0, saveat=saveat, max_steps=500, \n",
    "                                  adjoint=diffrax.DirectAdjoint(), stepsize_controller=diffrax.PIDController(atol=1e-7, rtol=1e-7, dtmin=0.001))\n",
    "        \n",
    "        return sol.ys\n",
    "\n",
    "    ys = jax.vmap(solve, in_axes=[None, None, 0])(env, ts, x0s) #Parallelize over the batch dimension\n",
    "    \n",
    "    return x0s, ts, ys\n",
    "\n",
    "key = jr.PRNGKey(0)\n",
    "data_key, gp_key = jr.split(key)\n",
    "\n",
    "T = 30\n",
    "dt = 0.2\n",
    "env = LotkaVolterra()\n",
    "\n",
    "# Simulate the data\n",
    "data = get_data(data_key, env, dt, T, batch_size=4)\n",
    "x0s, ts, ys = data"
   ]
  },
  {
   "cell_type": "markdown",
   "metadata": {},
   "source": [
    "For the fitness function, we used the ODEFitnessFunction that uses Diffrax to integrate candidate solutions. It is possible to select the solver, time step, number of steps and a stepsize controller to balance efficiency and accuracy. To ensure convergence of the genetic programming algorithm, constant optimization is applied to the best candidates at every generation. The constant optimization is performed with a couple of simple evolutionary steps that adjust the values of the constants in a candidate. The hyperparameters that define the constant optimization are `constant_optimization_N_offspring` (number of candidates with different constants should be sampled for each candidate), `constant_optimization_steps` (number of iterations of constant optimization for each candidate), `optimize_constants_elite` (number of candidates that constant optimization is applied to), `constant_step_size_init` (initial value of the step size for sampling constants) and `constant_step_size_decay` (the rate of decrease of the step size over generations)."
   ]
  },
  {
   "cell_type": "code",
   "execution_count": null,
   "metadata": {},
   "outputs": [
    {
     "name": "stdout",
     "output_type": "stream",
     "text": [
      "Input data should be formatted as: ['x0', 'x1'].\n"
     ]
    }
   ],
   "source": [
    "#Define the nodes and hyperparameters\n",
    "operator_list = [\n",
    "        (\"+\", lambda x, y: jnp.add(x, y), 2, 0.5), \n",
    "        (\"-\", lambda x, y: jnp.subtract(x, y), 2, 0.1), \n",
    "        (\"*\", lambda x, y: jnp.multiply(x, y), 2, 0.5), \n",
    "    ]\n",
    "\n",
    "variable_list = [[\"x\" + str(i) for i in range(env.n_var)]]\n",
    "layer_sizes = jnp.array([env.n_var])\n",
    "\n",
    "population_size = 100\n",
    "num_populations = 10\n",
    "num_generations = 50\n",
    "\n",
    "#Initialize the fitness function and the genetic programming strategy\n",
    "fitness_function = ODEFitnessFunction(solver=diffrax.Dopri5(), dt0 = 0.01, stepsize_controller=diffrax.PIDController(atol=1e-6, rtol=1e-6, dtmin=0.001), max_steps=300)\n",
    "\n",
    "strategy = GeneticProgramming(fitness_function, num_generations, population_size, operator_list, variable_list, layer_sizes, num_populations = num_populations,\n",
    "                        size_parsimony=0.003, constant_optimization_method=\"evolution\", constant_optimization_N_offspring = 50, constant_optimization_steps = 3, \n",
    "                        optimize_constants_elite=100, constant_step_size_init=0.1, constant_step_size_decay=0.99)"
   ]
  },
  {
   "cell_type": "markdown",
   "metadata": {},
   "source": [
    "Kozax provides a fit function that receives the data and a random key. However, it is also possible to run Kozax with an easy loop consisting of evaluating and evolving. This is useful as different input data can be provided during evaluation. In symbolic regression of dynamical systems, it helps to first optimize on a small part of the time points, and provide the full data trajectories only after a couple of generations."
   ]
  },
  {
   "cell_type": "code",
   "execution_count": 4,
   "metadata": {},
   "outputs": [
    {
     "name": "stdout",
     "output_type": "stream",
     "text": [
      "In generation 1, best fitness = 1.3755, best solution = [1.29 - 2.42*x0, 0.0769 - 0.336*x1]\n",
      "In generation 2, best fitness = 1.3496, best solution = [-0.893*x0*x1 + 1.1, 1.6*x0 - 2.06]\n",
      "In generation 3, best fitness = 1.3289, best solution = [-0.331*x0*x1, x0 - 0.413*x1 + 0.0743]\n",
      "In generation 4, best fitness = 1.3097, best solution = [x1*(-0.35*x0 - 0.246) + 1.23, 0.364 - 0.36*x1]\n",
      "In generation 5, best fitness = 1.2857, best solution = [-1.6*x0 - 0.248*x1 + 1.4, x0 - 0.415*x1 - 0.35]\n",
      "In generation 6, best fitness = 1.2720, best solution = [-1.72*x0 - 0.245*x1 + 1.42, 0.822*x0 - 0.384*x1 - 0.265]\n",
      "In generation 7, best fitness = 1.2277, best solution = [-1.16*x0*x1 + x0 + 0.551, 0.107*x0 - 0.228*x1 - 0.16]\n",
      "In generation 8, best fitness = 1.2014, best solution = [-0.639*x0*x1 + x0 + 0.461, 0.146*x0 - 0.197*x1 - 0.208]\n",
      "In generation 9, best fitness = 0.9929, best solution = [-2.6*x0*(-0.0276*x0 + 0.273*x1) + x0 + 0.461, 0.146*x0 - 0.197*x1 - 0.208]\n",
      "In generation 10, best fitness = 0.8489, best solution = [-2.56*x0*(-0.0312*x0 + 0.256*x1) + x0 + 0.245, 0.172*x0 - 0.197*x1 - 0.239]\n",
      "In generation 11, best fitness = 0.8489, best solution = [-2.56*x0*(-0.0312*x0 + 0.256*x1) + x0 + 0.245, 0.172*x0 - 0.197*x1 - 0.239]\n",
      "In generation 12, best fitness = 0.8420, best solution = [-2.56*x0*(-0.0312*x0 + 0.238*x1) + x0 + 0.245, 0.172*x0 - 0.197*x1 - 0.239]\n",
      "In generation 13, best fitness = 0.8420, best solution = [-2.56*x0*(-0.0312*x0 + 0.238*x1) + x0 + 0.245, 0.172*x0 - 0.197*x1 - 0.239]\n",
      "In generation 14, best fitness = 0.8420, best solution = [-2.56*x0*(-0.0312*x0 + 0.238*x1) + x0 + 0.245, 0.172*x0 - 0.197*x1 - 0.239]\n",
      "In generation 15, best fitness = 0.8420, best solution = [-2.56*x0*(-0.0312*x0 + 0.238*x1) + x0 + 0.245, 0.172*x0 - 0.197*x1 - 0.239]\n",
      "In generation 16, best fitness = 0.8212, best solution = [-2.62*x0*(0.158*x1 + 0.101) + x0 + 0.098, 0.175*x0 - 0.0532*x1 - 0.88]\n",
      "In generation 17, best fitness = 0.7373, best solution = [-0.74*x0*(x1 - 2.42), 0.122*x0*x1 - 0.00769*x0 - 0.36*x1]\n",
      "In generation 18, best fitness = 0.4043, best solution = [-0.42*x0*(x1 - 2.5), 0.0866*x0*x1 - 0.406*x1]\n",
      "In generation 19, best fitness = 0.2175, best solution = [-0.391*x0*(x1 - 2.5), 0.11*x0*x1 - 0.458*x1 + 0.0161]\n",
      "In generation 20, best fitness = 0.2129, best solution = [-0.402*x0*(x1 - 2.46), 0.117*x0*x1 - 0.463*x1]\n",
      "In generation 21, best fitness = 0.2129, best solution = [-0.402*x0*(x1 - 2.46), 0.117*x0*x1 - 0.463*x1]\n",
      "In generation 22, best fitness = 0.2129, best solution = [-0.402*x0*(x1 - 2.46), 0.117*x0*x1 - 0.463*x1]\n",
      "In generation 23, best fitness = 0.1362, best solution = [-0.409*x0*(x1 - 2.75), 0.0999*x0*x1 - 0.403*x1 + 0.0227]\n",
      "In generation 24, best fitness = 0.1362, best solution = [-0.409*x0*(x1 - 2.75), 0.0999*x0*x1 - 0.403*x1 + 0.0227]\n",
      "In generation 25, best fitness = 0.1362, best solution = [-0.409*x0*(x1 - 2.75), 0.0999*x0*x1 - 0.403*x1 + 0.0227]\n",
      "In generation 26, best fitness = 0.1218, best solution = [-0.393*x0*(x1 - 2.75), 0.102*x0*x1 - 0.406*x1]\n",
      "In generation 27, best fitness = 0.1218, best solution = [-0.393*x0*(x1 - 2.75), 0.102*x0*x1 - 0.406*x1]\n",
      "In generation 28, best fitness = 0.1218, best solution = [-0.393*x0*(x1 - 2.75), 0.102*x0*x1 - 0.406*x1]\n",
      "In generation 29, best fitness = 0.1218, best solution = [-0.393*x0*(x1 - 2.75), 0.102*x0*x1 - 0.406*x1]\n",
      "In generation 30, best fitness = 0.1218, best solution = [-0.393*x0*(x1 - 2.75), 0.102*x0*x1 - 0.406*x1]\n",
      "In generation 31, best fitness = 0.1218, best solution = [-0.393*x0*(x1 - 2.75), 0.102*x0*x1 - 0.406*x1]\n",
      "In generation 32, best fitness = 0.1218, best solution = [-0.393*x0*(x1 - 2.75), 0.102*x0*x1 - 0.406*x1]\n",
      "In generation 33, best fitness = 0.1218, best solution = [-0.393*x0*(x1 - 2.75), 0.102*x0*x1 - 0.406*x1]\n",
      "In generation 34, best fitness = 0.1189, best solution = [-0.41*x0*(x1 - 2.7), 0.105*x0*x1 - 0.407*x1]\n",
      "In generation 35, best fitness = 0.0978, best solution = [-0.395*x0*(x1 - 2.74), 0.0977*x0*x1 - 0.402*x1]\n",
      "In generation 36, best fitness = 0.0978, best solution = [-0.395*x0*(x1 - 2.74), 0.0977*x0*x1 - 0.402*x1]\n",
      "In generation 37, best fitness = 0.0978, best solution = [-0.395*x0*(x1 - 2.74), 0.0977*x0*x1 - 0.402*x1]\n",
      "In generation 38, best fitness = 0.0761, best solution = [-0.402*x0*(x1 - 2.76), 0.0993*x0*x1 - 0.397*x1]\n",
      "In generation 39, best fitness = 0.0761, best solution = [-0.402*x0*(x1 - 2.76), 0.0993*x0*x1 - 0.397*x1]\n",
      "In generation 40, best fitness = 0.0761, best solution = [-0.402*x0*(x1 - 2.76), 0.0993*x0*x1 - 0.397*x1]\n",
      "In generation 41, best fitness = 0.0761, best solution = [-0.402*x0*(x1 - 2.76), 0.0993*x0*x1 - 0.397*x1]\n",
      "In generation 42, best fitness = 0.0761, best solution = [-0.402*x0*(x1 - 2.76), 0.0993*x0*x1 - 0.397*x1]\n",
      "In generation 43, best fitness = 0.0761, best solution = [-0.402*x0*(x1 - 2.76), 0.0993*x0*x1 - 0.397*x1]\n",
      "In generation 44, best fitness = 0.0761, best solution = [-0.402*x0*(x1 - 2.76), 0.0993*x0*x1 - 0.397*x1]\n",
      "In generation 45, best fitness = 0.0761, best solution = [-0.402*x0*(x1 - 2.76), 0.0993*x0*x1 - 0.397*x1]\n",
      "In generation 46, best fitness = 0.0761, best solution = [-0.402*x0*(x1 - 2.76), 0.0993*x0*x1 - 0.397*x1]\n",
      "In generation 47, best fitness = 0.0761, best solution = [-0.402*x0*(x1 - 2.76), 0.0993*x0*x1 - 0.397*x1]\n",
      "In generation 48, best fitness = 0.0761, best solution = [-0.402*x0*(x1 - 2.76), 0.0993*x0*x1 - 0.397*x1]\n",
      "In generation 49, best fitness = 0.0761, best solution = [-0.402*x0*(x1 - 2.76), 0.0993*x0*x1 - 0.397*x1]\n",
      "In generation 50, best fitness = 0.0761, best solution = [-0.402*x0*(x1 - 2.76), 0.0993*x0*x1 - 0.397*x1]\n"
     ]
    }
   ],
   "source": [
    "# Sample the initial population\n",
    "population = strategy.initialize_population(gp_key)\n",
    "\n",
    "# Define the number of timepoints to include in the data\n",
    "end_ts = int(ts.shape[0]/2)\n",
    "\n",
    "for g in range(num_generations):\n",
    "    if g == 25: # After 25 generations, use the full data\n",
    "        end_ts = ts.shape[0]\n",
    "\n",
    "    key, eval_key, sample_key = jr.split(key, 3)\n",
    "    # Evaluate the population on the data, and return the fitness\n",
    "    fitness, population = strategy.evaluate_population(population, (x0s, ts[:end_ts], ys[:,:end_ts]), eval_key)\n",
    "\n",
    "    # Print the best solution in the population in this generation\n",
    "    best_fitness, best_solution = strategy.get_statistics(g)\n",
    "    print(f\"In generation {g+1}, best fitness = {best_fitness:.4f}, best solution = {strategy.expression_to_string(best_solution)}\")\n",
    "\n",
    "    # Evolve the population until the last generation. The fitness should be given to the evolve function.\n",
    "    if g < (num_generations-1):\n",
    "        population = strategy.evolve_population(population, fitness, sample_key)"
   ]
  },
  {
   "cell_type": "code",
   "execution_count": 5,
   "metadata": {},
   "outputs": [
    {
     "name": "stdout",
     "output_type": "stream",
     "text": [
      "Complexity: 2, fitness: 2.8892037868499756, equations: [-0.776, -0.763]\n",
      "Complexity: 4, fitness: 1.9611964225769043, equations: [-2.14*x0, -0.682]\n",
      "Complexity: 6, fitness: 1.3917429447174072, equations: [-1.98*x0, -0.285*x1]\n",
      "Complexity: 8, fitness: 1.3050819635391235, equations: [-2.23*x0, x0 - 0.41*x1]\n",
      "Complexity: 10, fitness: 1.2563836574554443, equations: [0.835 - 2.31*x0, x0 - 0.537*x1]\n",
      "Complexity: 12, fitness: 1.2215551137924194, equations: [1.11 - 2.31*x0, x0 - 0.45*x1 - 0.276]\n",
      "Complexity: 14, fitness: 0.8544017672538757, equations: [-0.845*x0*(x1 - 2.48), 0.141*x0 - 0.271*x1]\n",
      "Complexity: 16, fitness: 0.06887245923280716, equations: [-0.415*x0*(x1 - 2.7), 0.104*x0*x1 - 0.404*x1]\n",
      "Complexity: 18, fitness: 0.06406070291996002, equations: [-0.398*x0*(x1 - 2.67), 0.103*x0*x1 - 0.415*x1 - 0.000306]\n",
      "Complexity: 20, fitness: 0.016078392043709755, equations: [-0.402*x0*(x1 - 2.76), 0.0993*x0*x1 - 0.397*x1]\n"
     ]
    }
   ],
   "source": [
    "strategy.print_pareto_front()"
   ]
  },
  {
   "cell_type": "markdown",
   "metadata": {},
   "source": [
    "Instead of using evolution to optimize the constants, Kozax also offers gradient-based optimization. For gradient optimization, it is possible to specify the optimizer, the number of candidates to apply constant optimization to, the initial learning rate and the learning rate decay over generation. These two methods are provided as either can be more effective or efficient for different problems."
   ]
  },
  {
   "cell_type": "code",
   "execution_count": null,
   "metadata": {},
   "outputs": [
    {
     "name": "stdout",
     "output_type": "stream",
     "text": [
      "Input data should be formatted as: ['x0', 'x1'].\n"
     ]
    }
   ],
   "source": [
    "import optax\n",
    "\n",
    "strategy = GeneticProgramming(fitness_function, num_generations, population_size, operator_list, variable_list, layer_sizes, num_populations = num_populations,\n",
    "                        size_parsimony=0.003, constant_optimization_method=\"gradient\", constant_optimization_steps = 15, optimizer_class = optax.adam,\n",
    "                        optimize_constants_elite=100, constant_step_size_init=0.025, constant_step_size_decay=0.95)"
   ]
  },
  {
   "cell_type": "code",
   "execution_count": 7,
   "metadata": {},
   "outputs": [
    {
     "name": "stdout",
     "output_type": "stream",
     "text": [
      "In generation 1, best fitness = 1.4242, best solution = [1.41 - 2.33*x0, -0.226*x1 - 0.145]\n",
      "In generation 2, best fitness = 1.3698, best solution = [1.16 - 2.29*x0, 0.113 - 0.317*x1]\n",
      "In generation 3, best fitness = 1.2569, best solution = [-0.49*x0*x1 + 0.674, 0.907*x0 - 0.261*x1 - 0.681]\n",
      "In generation 4, best fitness = 1.1925, best solution = [-0.283*x0*x1 + 0.391, 0.882*x0 - 0.272*x1 - 0.805]\n",
      "In generation 5, best fitness = 1.1737, best solution = [-0.276*x0*x1 + 0.392, 0.729*x0 - 0.286*x1 - 0.678]\n",
      "In generation 6, best fitness = 1.1737, best solution = [-0.276*x0*x1 + 0.392, 0.729*x0 - 0.286*x1 - 0.678]\n",
      "In generation 7, best fitness = 1.1177, best solution = [(1.41 - 0.532*x1)*(x0 - 0.218), x0 - 0.427*x1]\n",
      "In generation 8, best fitness = 1.0575, best solution = [2*x0*(0.495 - 0.22*x1), (-1.18*x0 + x1)*(0.00345*x0 - 0.399)]\n",
      "In generation 9, best fitness = 0.9400, best solution = [(0.686 - 0.268*x1)*(2*x0 + 0.161), (-1.26*x0 + x1)*(0.0518*x0 - 0.375)]\n",
      "In generation 10, best fitness = 0.9385, best solution = [(0.655 - 0.258*x1)*(2*x0 + 0.144), (-1.13*x0 + x1)*(0.0412*x0 - 0.371)]\n",
      "In generation 11, best fitness = 0.9128, best solution = [(0.453 - 0.175*x1)*(4*x0 + 0.168), (-1.14*x0 + x1)*(0.0378*x0 - 0.361)]\n",
      "In generation 12, best fitness = 0.6460, best solution = [(0.649 - 0.251*x1)*(2*x0 + 0.15), (0.097*x0 - 0.401)*(0.127*x0 + x1 - 0.342)]\n",
      "In generation 13, best fitness = 0.3462, best solution = [(0.543 - 0.205*x1)*(2*x0 + 0.111), (0.102*x0 - 0.448)*(0.0216*x0 + x1 - 0.267)]\n",
      "In generation 14, best fitness = 0.3462, best solution = [(0.543 - 0.205*x1)*(2*x0 + 0.111), (0.102*x0 - 0.448)*(0.0216*x0 + x1 - 0.267)]\n",
      "In generation 15, best fitness = 0.3462, best solution = [(0.543 - 0.205*x1)*(2*x0 + 0.111), (0.102*x0 - 0.448)*(0.0216*x0 + x1 - 0.267)]\n",
      "In generation 16, best fitness = 0.3462, best solution = [(0.543 - 0.205*x1)*(2*x0 + 0.111), (0.102*x0 - 0.448)*(0.0216*x0 + x1 - 0.267)]\n",
      "In generation 17, best fitness = 0.1724, best solution = [(0.557 - 0.21*x1)*(2*x0 + 0.0978), (0.111*x0 - 0.453)*(x1 - 0.294)]\n",
      "In generation 18, best fitness = 0.1724, best solution = [(0.557 - 0.21*x1)*(2*x0 + 0.0978), (0.111*x0 - 0.453)*(x1 - 0.294)]\n",
      "In generation 19, best fitness = 0.1724, best solution = [(0.557 - 0.21*x1)*(2*x0 + 0.0978), (0.111*x0 - 0.453)*(x1 - 0.294)]\n",
      "In generation 20, best fitness = 0.1724, best solution = [(0.557 - 0.21*x1)*(2*x0 + 0.0978), (0.111*x0 - 0.453)*(x1 - 0.294)]\n",
      "In generation 21, best fitness = 0.1688, best solution = [(0.566 - 0.215*x1)*(2*x0 - 0.098), x1*(0.113*x0 - 0.423)]\n",
      "In generation 22, best fitness = 0.1231, best solution = [(0.531 - 0.201*x1)*(2*x0 - 0.021), x1*(0.107*x0 - 0.424)]\n",
      "In generation 23, best fitness = 0.1231, best solution = [(0.531 - 0.201*x1)*(2*x0 - 0.021), x1*(0.107*x0 - 0.424)]\n",
      "In generation 24, best fitness = 0.1231, best solution = [(0.531 - 0.201*x1)*(2*x0 - 0.021), x1*(0.107*x0 - 0.424)]\n",
      "In generation 25, best fitness = 0.1231, best solution = [(0.531 - 0.201*x1)*(2*x0 - 0.021), x1*(0.107*x0 - 0.424)]\n",
      "In generation 26, best fitness = 0.1189, best solution = [(0.53 - 0.2*x1)*(2*x0 - 0.0242), x1*(0.104*x0 - 0.421)]\n",
      "In generation 27, best fitness = 0.1177, best solution = [(0.574 - 0.218*x1)*(1.87*x0 - 0.06), x1*(0.105*x0 - 0.422)]\n",
      "In generation 28, best fitness = 0.1133, best solution = [(0.539 - 0.203*x1)*(2*x0 - 0.0842), x1*(0.105*x0 - 0.421)]\n",
      "In generation 29, best fitness = 0.1107, best solution = [1.87*x0*(0.572 - 0.217*x1), x1*(0.105*x0 - 0.42)]\n",
      "In generation 30, best fitness = 0.1107, best solution = [1.87*x0*(0.572 - 0.217*x1), x1*(0.105*x0 - 0.42)]\n",
      "In generation 31, best fitness = 0.1107, best solution = [1.87*x0*(0.572 - 0.217*x1), x1*(0.105*x0 - 0.42)]\n",
      "In generation 32, best fitness = 0.1054, best solution = [1.87*x0*(0.571 - 0.216*x1), x1*(0.104*x0 - 0.419)]\n",
      "In generation 33, best fitness = 0.1053, best solution = [(0.536 - 0.202*x1)*(2*x0 - 0.0521), x1*(0.103*x0 - 0.418)]\n",
      "In generation 34, best fitness = 0.1053, best solution = [(0.536 - 0.202*x1)*(2*x0 - 0.0521), x1*(0.103*x0 - 0.418)]\n",
      "In generation 35, best fitness = 0.1053, best solution = [(0.536 - 0.202*x1)*(2*x0 - 0.0521), x1*(0.103*x0 - 0.418)]\n",
      "In generation 36, best fitness = 0.1053, best solution = [(0.536 - 0.202*x1)*(2*x0 - 0.0521), x1*(0.103*x0 - 0.418)]\n",
      "In generation 37, best fitness = 0.1053, best solution = [(0.536 - 0.202*x1)*(2*x0 - 0.0521), x1*(0.103*x0 - 0.418)]\n",
      "In generation 38, best fitness = 0.1053, best solution = [(0.536 - 0.202*x1)*(2*x0 - 0.0521), x1*(0.103*x0 - 0.418)]\n",
      "In generation 39, best fitness = 0.1053, best solution = [(0.536 - 0.202*x1)*(2*x0 - 0.0521), x1*(0.103*x0 - 0.418)]\n",
      "In generation 40, best fitness = 0.1053, best solution = [(0.536 - 0.202*x1)*(2*x0 - 0.0521), x1*(0.103*x0 - 0.418)]\n",
      "In generation 41, best fitness = 0.0998, best solution = [2*x0*(0.536 - 0.203*x1), x1*(0.104*x0 - 0.418)]\n",
      "In generation 42, best fitness = 0.0941, best solution = [1.86*x0*(0.574 - 0.215*x1), x1*(0.103*x0 - 0.415)]\n",
      "In generation 43, best fitness = 0.0941, best solution = [1.86*x0*(0.574 - 0.215*x1), x1*(0.103*x0 - 0.415)]\n",
      "In generation 44, best fitness = 0.0941, best solution = [1.86*x0*(0.574 - 0.215*x1), x1*(0.103*x0 - 0.415)]\n",
      "In generation 45, best fitness = 0.0941, best solution = [1.86*x0*(0.574 - 0.215*x1), x1*(0.103*x0 - 0.415)]\n",
      "In generation 46, best fitness = 0.0941, best solution = [1.86*x0*(0.574 - 0.215*x1), x1*(0.103*x0 - 0.415)]\n",
      "In generation 47, best fitness = 0.0941, best solution = [1.86*x0*(0.574 - 0.215*x1), x1*(0.103*x0 - 0.415)]\n",
      "In generation 48, best fitness = 0.0941, best solution = [1.86*x0*(0.574 - 0.215*x1), x1*(0.103*x0 - 0.415)]\n",
      "In generation 49, best fitness = 0.0938, best solution = [2*x0*(0.537 - 0.202*x1), x1*(0.103*x0 - 0.415)]\n",
      "In generation 50, best fitness = 0.0938, best solution = [2*x0*(0.537 - 0.202*x1), x1*(0.103*x0 - 0.415)]\n"
     ]
    }
   ],
   "source": [
    "key = jr.PRNGKey(0)\n",
    "data_key, gp_key = jr.split(key)\n",
    "\n",
    "T = 30\n",
    "dt = 0.2\n",
    "env = LotkaVolterra()\n",
    "\n",
    "# Simulate the data\n",
    "data = get_data(data_key, env, dt, T, batch_size=4)\n",
    "x0s, ts, ys = data\n",
    "\n",
    "# Sample the initial population\n",
    "population = strategy.initialize_population(gp_key)\n",
    "\n",
    "# Define the number of timepoints to include in the data\n",
    "end_ts = int(ts.shape[0]/2)\n",
    "\n",
    "for g in range(num_generations):\n",
    "    if g == 25: # After 25 generations, use the full data\n",
    "        end_ts = ts.shape[0]\n",
    "\n",
    "    key, eval_key, sample_key = jr.split(key, 3)\n",
    "    # Evaluate the population on the data, and return the fitness\n",
    "    fitness, population = strategy.evaluate_population(population, (x0s, ts[:end_ts], ys[:,:end_ts]), eval_key)\n",
    "\n",
    "    # Print the best solution in the population in this generation\n",
    "    best_fitness, best_solution = strategy.get_statistics(g)\n",
    "    print(f\"In generation {g+1}, best fitness = {best_fitness:.4f}, best solution = {strategy.expression_to_string(best_solution)}\")\n",
    "\n",
    "    # Evolve the population until the last generation. The fitness should be given to the evolve function.\n",
    "    if g < (num_generations-1):\n",
    "        population = strategy.evolve_population(population, fitness, sample_key)"
   ]
  },
  {
   "cell_type": "code",
   "execution_count": 8,
   "metadata": {},
   "outputs": [
    {
     "name": "stdout",
     "output_type": "stream",
     "text": [
      "Complexity: 2, fitness: 2.889601707458496, equations: [-0.789, -0.746]\n",
      "Complexity: 4, fitness: 2.231682300567627, equations: [1.05 - x0, -0.336]\n",
      "Complexity: 6, fitness: 1.392594814300537, equations: [-1.95*x0, -0.291*x1]\n",
      "Complexity: 8, fitness: 1.3738036155700684, equations: [-1.62*x0, x0 - 0.407*x1]\n",
      "Complexity: 10, fitness: 1.3001673221588135, equations: [-0.276*x0*x1, x0 - 0.386*x1]\n",
      "Complexity: 12, fitness: 1.226672649383545, equations: [-0.274*x0*x1 + 0.218, x0 - 0.407*x1]\n",
      "Complexity: 14, fitness: 0.916778028011322, equations: [x0*(1.33 - 0.49*x1), 0.311*x0 - 0.327*x1]\n",
      "Complexity: 16, fitness: 0.04582058638334274, equations: [2*x0*(0.537 - 0.202*x1), x1*(0.103*x0 - 0.415)]\n",
      "Complexity: 18, fitness: 0.04011291265487671, equations: [1.86*x0*(0.574 - 0.215*x1), x1*(0.103*x0 - 0.415)]\n"
     ]
    }
   ],
   "source": [
    "strategy.print_pareto_front()"
   ]
  }
 ],
 "metadata": {
  "kernelspec": {
   "display_name": "test_kozax",
   "language": "python",
   "name": "python3"
  },
  "language_info": {
   "codemirror_mode": {
    "name": "ipython",
    "version": 3
   },
   "file_extension": ".py",
   "mimetype": "text/x-python",
   "name": "python",
   "nbconvert_exporter": "python",
   "pygments_lexer": "ipython3",
   "version": "3.12.2"
  },
  "orig_nbformat": 4
 },
 "nbformat": 4,
 "nbformat_minor": 2
}
