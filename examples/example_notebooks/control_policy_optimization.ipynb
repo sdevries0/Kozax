{
 "cells": [
  {
   "cell_type": "markdown",
   "metadata": {},
   "source": [
    "# Control policy optimization\n",
    "\n",
    "In this example, a symbolic policy is evolved for the pendulum swingup task. Gymnax is used for simulation of the pendulum environment, showing that Kozax can easily be extended to external libraries."
   ]
  },
  {
   "cell_type": "code",
   "execution_count": null,
   "metadata": {},
   "outputs": [
    {
     "name": "stdout",
     "output_type": "stream",
     "text": [
      "These device(s) are detected:  [CpuDevice(id=0), CpuDevice(id=1), CpuDevice(id=2), CpuDevice(id=3), CpuDevice(id=4), CpuDevice(id=5), CpuDevice(id=6), CpuDevice(id=7), CpuDevice(id=8), CpuDevice(id=9)]\n"
     ]
    }
   ],
   "source": [
    "# Specify the cores to use for XLA\n",
    "import os\n",
    "os.environ[\"XLA_FLAGS\"] = '--xla_force_host_platform_device_count=10'\n",
    "import jax\n",
    "import jax.numpy as jnp\n",
    "import jax.random as jr\n",
    "import gymnax\n",
    "import matplotlib.pyplot as plt\n",
    "\n",
    "from kozax.genetic_programming import GeneticProgramming\n",
    "from kozax.fitness_functions.Gymnax_fitness_function import GymFitnessFunction"
   ]
  },
  {
   "cell_type": "markdown",
   "metadata": {},
   "source": [
    "Kozax provides a simple fitness function for Gymnax environments, which is used in this example."
   ]
  },
  {
   "cell_type": "code",
   "execution_count": null,
   "metadata": {},
   "outputs": [
    {
     "name": "stdout",
     "output_type": "stream",
     "text": [
      "Input data should be formatted as: ['y0', 'y1', 'y2'].\n"
     ]
    }
   ],
   "source": [
    "#Define hyperparameters\n",
    "population_size = 100\n",
    "num_populations = 5\n",
    "num_generations = 50\n",
    "batch_size = 16\n",
    "\n",
    "fitness_function = GymFitnessFunction(\"Pendulum-v1\")\n",
    "\n",
    "#Define operators and variables\n",
    "operator_list = [\n",
    "    (\"+\", lambda x, y: jnp.add(x, y), 2, 0.5), \n",
    "    (\"-\", lambda x, y: jnp.subtract(x, y), 2, 0.1), \n",
    "    (\"*\", lambda x, y: jnp.multiply(x, y), 2, 0.5), \n",
    "    ]\n",
    "\n",
    "variable_list = [[f\"y{i}\" for i in range(fitness_function.env.observation_space(fitness_function.env_params).shape[0])]]\n",
    "\n",
    "#Initialize strategy\n",
    "strategy = GeneticProgramming(fitness_function, num_generations, population_size, operator_list, variable_list, num_populations=num_populations)"
   ]
  },
  {
   "cell_type": "code",
   "execution_count": null,
   "metadata": {},
   "outputs": [
    {
     "name": "stdout",
     "output_type": "stream",
     "text": [
      "In generation 1, best fitness = 744.1753, best solution = -1.57*y0*y2 - 0.45*y0*(y0 + 0.112)\n",
      "In generation 2, best fitness = 586.3507, best solution = -3.06*y0*y2\n",
      "In generation 3, best fitness = 586.3507, best solution = -3.06*y0*y2\n",
      "In generation 4, best fitness = 572.3209, best solution = -1.57*y0*y2 - 0.135*y0 - 0.135*y2\n",
      "In generation 5, best fitness = 556.0969, best solution = -6.11*y0*y2\n",
      "In generation 6, best fitness = 215.0215, best solution = -1.57*y0*y2 - 2.77*y1*(y0**2 + y0)\n",
      "In generation 7, best fitness = 215.0215, best solution = -1.57*y0*y2 - 2.77*y1*(y0**2 + y0)\n",
      "In generation 8, best fitness = 215.0215, best solution = -1.57*y0*y2 - 2.77*y1*(y0**2 + y0)\n",
      "In generation 9, best fitness = 215.0215, best solution = -1.57*y0*y2 - 2.77*y1*(y0**2 + y0)\n",
      "In generation 10, best fitness = 215.0215, best solution = -1.57*y0*y2 - 2.77*y1*(y0**2 + y0)\n",
      "In generation 11, best fitness = 215.0215, best solution = -1.57*y0*y2 - 2.77*y1*(y0**2 + y0)\n",
      "In generation 12, best fitness = 215.0215, best solution = -1.57*y0*y2 - 2.77*y1*(y0**2 + y0)\n",
      "In generation 13, best fitness = 215.0215, best solution = -1.57*y0*y2 - 2.77*y1*(y0**2 + y0)\n",
      "In generation 14, best fitness = 215.0215, best solution = -1.57*y0*y2 - 2.77*y1*(y0**2 + y0)\n",
      "In generation 15, best fitness = 206.8361, best solution = 2.37*y0*(-3.06*y1 - 1.29*y2)\n",
      "In generation 16, best fitness = 206.8361, best solution = 2.37*y0*(-3.06*y1 - 1.29*y2)\n",
      "In generation 17, best fitness = 206.8361, best solution = 2.37*y0*(-3.06*y1 - 1.29*y2)\n",
      "In generation 18, best fitness = 206.8361, best solution = 2.37*y0*(-3.06*y1 - 1.29*y2)\n",
      "In generation 19, best fitness = 206.8361, best solution = 2.37*y0*(-3.06*y1 - 1.29*y2)\n",
      "In generation 20, best fitness = 206.7741, best solution = y0*(-2.77*y1 - 2.77*y2) - 2.77*y1\n",
      "In generation 21, best fitness = 201.2889, best solution = -5.36*y0*y1 - 1.57*y0*y2\n",
      "In generation 22, best fitness = 161.3126, best solution = 2.37*y0*(-4.06*y1 - 0.966*y2)\n",
      "In generation 23, best fitness = 161.3126, best solution = 2.37*y0*(-4.06*y1 - 0.966*y2)\n",
      "In generation 24, best fitness = 159.9835, best solution = 2.37*y0*(-5.99*y1 - 1.21*y2)\n",
      "In generation 25, best fitness = 159.9835, best solution = 2.37*y0*(-5.99*y1 - 1.21*y2)\n",
      "In generation 26, best fitness = 159.9835, best solution = 2.37*y0*(-5.99*y1 - 1.21*y2)\n",
      "In generation 27, best fitness = 159.3385, best solution = 5.62*y0*(-6.56*y1 - 1.29*y2)\n",
      "In generation 28, best fitness = 159.3385, best solution = 5.62*y0*(-6.56*y1 - 1.29*y2)\n",
      "In generation 29, best fitness = 159.3385, best solution = 5.62*y0*(-6.56*y1 - 1.29*y2)\n",
      "In generation 30, best fitness = 159.3385, best solution = 5.62*y0*(-6.56*y1 - 1.29*y2)\n",
      "In generation 31, best fitness = 159.3385, best solution = 5.62*y0*(-6.56*y1 - 1.29*y2)\n",
      "In generation 32, best fitness = 159.3385, best solution = 5.62*y0*(-6.56*y1 - 1.29*y2)\n",
      "In generation 33, best fitness = 159.3385, best solution = 5.62*y0*(-6.56*y1 - 1.29*y2)\n",
      "In generation 34, best fitness = 159.3385, best solution = 5.62*y0*(-6.56*y1 - 1.29*y2)\n",
      "In generation 35, best fitness = 159.3385, best solution = 5.62*y0*(-6.56*y1 - 1.29*y2)\n",
      "In generation 36, best fitness = 159.3385, best solution = 5.62*y0*(-6.56*y1 - 1.29*y2)\n",
      "In generation 37, best fitness = 159.3385, best solution = 5.62*y0*(-6.56*y1 - 1.29*y2)\n",
      "In generation 38, best fitness = 159.3385, best solution = 5.62*y0*(-6.56*y1 - 1.29*y2)\n",
      "In generation 39, best fitness = 159.0944, best solution = 5.32*y0*(-6.41*y1 - 1.19*y2)\n",
      "In generation 40, best fitness = 159.0944, best solution = 5.32*y0*(-6.41*y1 - 1.19*y2)\n",
      "In generation 41, best fitness = 159.0944, best solution = 5.32*y0*(-6.41*y1 - 1.19*y2)\n",
      "In generation 42, best fitness = 159.0781, best solution = 5.5*y0*(-6.41*y1 - 1.19*y2)\n",
      "In generation 43, best fitness = 159.0781, best solution = 5.5*y0*(-6.41*y1 - 1.19*y2)\n",
      "In generation 44, best fitness = 159.0643, best solution = 5.62*y0*(-6.41*y1 - 1.19*y2)\n",
      "In generation 45, best fitness = 159.0643, best solution = 5.62*y0*(-6.41*y1 - 1.19*y2)\n",
      "In generation 46, best fitness = 159.0643, best solution = 5.62*y0*(-6.41*y1 - 1.19*y2)\n",
      "In generation 47, best fitness = 159.0643, best solution = 5.62*y0*(-6.41*y1 - 1.19*y2)\n",
      "In generation 48, best fitness = 159.0643, best solution = 5.62*y0*(-6.41*y1 - 1.19*y2)\n",
      "In generation 49, best fitness = 159.0643, best solution = 5.62*y0*(-6.41*y1 - 1.19*y2)\n",
      "In generation 50, best fitness = 159.0643, best solution = 5.62*y0*(-6.41*y1 - 1.19*y2)\n",
      "Complexity: 1, fitness: 1238.421875, equations: y0\n",
      "Complexity: 3, fitness: 1131.870849609375, equations: -2.77*y1\n",
      "Complexity: 5, fitness: 690.8515014648438, equations: -1.92*y0*y2\n",
      "Complexity: 7, fitness: 543.3256225585938, equations: -4.54*y0*y2\n",
      "Complexity: 9, fitness: 427.9083557128906, equations: -12.7*y0*y2\n",
      "Complexity: 11, fitness: 206.77407836914062, equations: y0*(-2.77*y1 - 2.77*y2) - 2.77*y1\n",
      "Complexity: 13, fitness: 159.5230712890625, equations: 2.92*y0*(-6.56*y1 - 1.29*y2)\n"
     ]
    }
   ],
   "source": [
    "key = jr.PRNGKey(0)\n",
    "data_key, gp_key = jr.split(key, 2)\n",
    "\n",
    "# The data comprises keys need to initialize the batch of environments.\n",
    "batch_keys = jr.split(data_key, batch_size)\n",
    "\n",
    "strategy.fit(batch_keys, gp_key, verbose=True)"
   ]
  },
  {
   "cell_type": "markdown",
   "metadata": {},
   "source": [
    "## Visualize best solution\n",
    "\n",
    "We can visualize the sin and cos position in a trajectory using the best solution."
   ]
  },
  {
   "cell_type": "code",
   "execution_count": 5,
   "metadata": {},
   "outputs": [
    {
     "data": {
      "text/plain": [
       "<matplotlib.legend.Legend at 0x3735e3610>"
      ]
     },
     "execution_count": 5,
     "metadata": {},
     "output_type": "execute_result"
    },
    {
     "data": {
      "image/png": "[encoded data removed]",
      "text/plain": [
       "<Figure size 640x480 with 1 Axes>"
      ]
     },
     "metadata": {},
     "output_type": "display_data"
    }
   ],
   "source": [
    "env, env_params = gymnax.make('Pendulum-v1')\n",
    "key = jr.PRNGKey(2)\n",
    "obs, env_state = env.reset(key)\n",
    "all_obs = []\n",
    "treward = []\n",
    "actions = []\n",
    "\n",
    "done = False\n",
    "\n",
    "sin = jnp.sin\n",
    "cos = jnp.cos\n",
    "\n",
    "T=199\n",
    "for t in range(T):\n",
    "\n",
    "    y0, y1, y2 = obs\n",
    "    action = 2.92*y0*(-6.56*y1 - 1.29*y2)\n",
    "    obs, env_state, reward, done, _ = env.step(\n",
    "                jr.fold_in(key, t), env_state, action, env_params\n",
    "            )\n",
    "    all_obs.append(obs)\n",
    "    treward.append(reward)\n",
    "    actions.append(action)\n",
    "\n",
    "all_obs = jnp.array(all_obs)\n",
    "plt.plot(all_obs[:,0], label='cos(x)')\n",
    "plt.plot(all_obs[:,1], label='sin(x)')\n",
    "plt.legend()"
   ]
  }
 ],
 "metadata": {
  "kernelspec": {
   "display_name": "test_kozax",
   "language": "python",
   "name": "python3"
  },
  "language_info": {
   "codemirror_mode": {
    "name": "ipython",
    "version": 3
   },
   "file_extension": ".py",
   "mimetype": "text/x-python",
   "name": "python",
   "nbconvert_exporter": "python",
   "pygments_lexer": "ipython3",
   "version": "3.12.2"
  },
  "orig_nbformat": 4
 },
 "nbformat": 4,
 "nbformat_minor": 2
}
